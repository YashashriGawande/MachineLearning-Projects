{
  "cells": [
    {
      "cell_type": "markdown",
      "source": [
        "Crop Analysis and Prediction"
      ],
      "metadata": {
        "id": "V7qY9DxPqDbl"
      },
      "id": "V7qY9DxPqDbl"
    },
    {
      "cell_type": "code",
      "execution_count": 2,
      "id": "humanitarian-reservoir",
      "metadata": {
        "_cell_guid": "b1076dfc-b9ad-4769-8c92-a6c4dae69d19",
        "_uuid": "8f2839f25d086af736a60e9eeb907d3b93b6e0e5",
        "execution": {
          "iopub.execute_input": "2021-06-02T16:01:01.324038Z",
          "iopub.status.busy": "2021-06-02T16:01:01.323402Z",
          "iopub.status.idle": "2021-06-02T16:01:01.344560Z",
          "shell.execute_reply": "2021-06-02T16:01:01.343912Z",
          "shell.execute_reply.started": "2021-05-27T17:18:52.72529Z"
        },
        "papermill": {
          "duration": 0.067113,
          "end_time": "2021-06-02T16:01:01.344777",
          "exception": false,
          "start_time": "2021-06-02T16:01:01.277664",
          "status": "completed"
        },
        "tags": [],
        "id": "humanitarian-reservoir"
      },
      "outputs": [],
      "source": [
        "#importing libraries\n",
        "\n",
        "import numpy as np\n",
        "import pandas as pd \n",
        "import seaborn as sns\n",
        "import matplotlib.pyplot as plt\n",
        "import warnings"
      ]
    },
    {
      "cell_type": "code",
      "execution_count": 5,
      "id": "dated-amazon",
      "metadata": {
        "execution": {
          "iopub.execute_input": "2021-06-02T16:01:02.330191Z",
          "iopub.status.busy": "2021-06-02T16:01:02.329409Z",
          "iopub.status.idle": "2021-06-02T16:01:02.382030Z",
          "shell.execute_reply": "2021-06-02T16:01:02.382528Z",
          "shell.execute_reply.started": "2021-05-27T17:18:53.683278Z"
        },
        "papermill": {
          "duration": 0.092913,
          "end_time": "2021-06-02T16:01:02.382748",
          "exception": false,
          "start_time": "2021-06-02T16:01:02.289835",
          "status": "completed"
        },
        "tags": [],
        "id": "dated-amazon"
      },
      "outputs": [],
      "source": [
        "df=pd.read_csv('Crop_recommendation.csv')"
      ]
    },
    {
      "cell_type": "markdown",
      "source": [
        "Exploratory Data Analysis "
      ],
      "metadata": {
        "id": "ewlGIXUFrUgZ"
      },
      "id": "ewlGIXUFrUgZ"
    },
    {
      "cell_type": "code",
      "source": [
        "df.head()"
      ],
      "metadata": {
        "colab": {
          "base_uri": "https://localhost:8080/",
          "height": 206
        },
        "id": "b-5Ar8EvrRsG",
        "outputId": "b20c0b7f-d101-40a1-fda5-59755845c930"
      },
      "id": "b-5Ar8EvrRsG",
      "execution_count": 6,
      "outputs": [
        {
          "output_type": "execute_result",
          "data": {
            "text/plain": [
              "    N   P   K  temperature   humidity        ph    rainfall label\n",
              "0  90  42  43    20.879744  82.002744  6.502985  202.935536  rice\n",
              "1  85  58  41    21.770462  80.319644  7.038096  226.655537  rice\n",
              "2  60  55  44    23.004459  82.320763  7.840207  263.964248  rice\n",
              "3  74  35  40    26.491096  80.158363  6.980401  242.864034  rice\n",
              "4  78  42  42    20.130175  81.604873  7.628473  262.717340  rice"
            ],
            "text/html": [
              "\n",
              "  <div id=\"df-0a7c6cb3-7dba-4f8c-980f-e32989be56a7\">\n",
              "    <div class=\"colab-df-container\">\n",
              "      <div>\n",
              "<style scoped>\n",
              "    .dataframe tbody tr th:only-of-type {\n",
              "        vertical-align: middle;\n",
              "    }\n",
              "\n",
              "    .dataframe tbody tr th {\n",
              "        vertical-align: top;\n",
              "    }\n",
              "\n",
              "    .dataframe thead th {\n",
              "        text-align: right;\n",
              "    }\n",
              "</style>\n",
              "<table border=\"1\" class=\"dataframe\">\n",
              "  <thead>\n",
              "    <tr style=\"text-align: right;\">\n",
              "      <th></th>\n",
              "      <th>N</th>\n",
              "      <th>P</th>\n",
              "      <th>K</th>\n",
              "      <th>temperature</th>\n",
              "      <th>humidity</th>\n",
              "      <th>ph</th>\n",
              "      <th>rainfall</th>\n",
              "      <th>label</th>\n",
              "    </tr>\n",
              "  </thead>\n",
              "  <tbody>\n",
              "    <tr>\n",
              "      <th>0</th>\n",
              "      <td>90</td>\n",
              "      <td>42</td>\n",
              "      <td>43</td>\n",
              "      <td>20.879744</td>\n",
              "      <td>82.002744</td>\n",
              "      <td>6.502985</td>\n",
              "      <td>202.935536</td>\n",
              "      <td>rice</td>\n",
              "    </tr>\n",
              "    <tr>\n",
              "      <th>1</th>\n",
              "      <td>85</td>\n",
              "      <td>58</td>\n",
              "      <td>41</td>\n",
              "      <td>21.770462</td>\n",
              "      <td>80.319644</td>\n",
              "      <td>7.038096</td>\n",
              "      <td>226.655537</td>\n",
              "      <td>rice</td>\n",
              "    </tr>\n",
              "    <tr>\n",
              "      <th>2</th>\n",
              "      <td>60</td>\n",
              "      <td>55</td>\n",
              "      <td>44</td>\n",
              "      <td>23.004459</td>\n",
              "      <td>82.320763</td>\n",
              "      <td>7.840207</td>\n",
              "      <td>263.964248</td>\n",
              "      <td>rice</td>\n",
              "    </tr>\n",
              "    <tr>\n",
              "      <th>3</th>\n",
              "      <td>74</td>\n",
              "      <td>35</td>\n",
              "      <td>40</td>\n",
              "      <td>26.491096</td>\n",
              "      <td>80.158363</td>\n",
              "      <td>6.980401</td>\n",
              "      <td>242.864034</td>\n",
              "      <td>rice</td>\n",
              "    </tr>\n",
              "    <tr>\n",
              "      <th>4</th>\n",
              "      <td>78</td>\n",
              "      <td>42</td>\n",
              "      <td>42</td>\n",
              "      <td>20.130175</td>\n",
              "      <td>81.604873</td>\n",
              "      <td>7.628473</td>\n",
              "      <td>262.717340</td>\n",
              "      <td>rice</td>\n",
              "    </tr>\n",
              "  </tbody>\n",
              "</table>\n",
              "</div>\n",
              "      <button class=\"colab-df-convert\" onclick=\"convertToInteractive('df-0a7c6cb3-7dba-4f8c-980f-e32989be56a7')\"\n",
              "              title=\"Convert this dataframe to an interactive table.\"\n",
              "              style=\"display:none;\">\n",
              "        \n",
              "  <svg xmlns=\"http://www.w3.org/2000/svg\" height=\"24px\"viewBox=\"0 0 24 24\"\n",
              "       width=\"24px\">\n",
              "    <path d=\"M0 0h24v24H0V0z\" fill=\"none\"/>\n",
              "    <path d=\"M18.56 5.44l.94 2.06.94-2.06 2.06-.94-2.06-.94-.94-2.06-.94 2.06-2.06.94zm-11 1L8.5 8.5l.94-2.06 2.06-.94-2.06-.94L8.5 2.5l-.94 2.06-2.06.94zm10 10l.94 2.06.94-2.06 2.06-.94-2.06-.94-.94-2.06-.94 2.06-2.06.94z\"/><path d=\"M17.41 7.96l-1.37-1.37c-.4-.4-.92-.59-1.43-.59-.52 0-1.04.2-1.43.59L10.3 9.45l-7.72 7.72c-.78.78-.78 2.05 0 2.83L4 21.41c.39.39.9.59 1.41.59.51 0 1.02-.2 1.41-.59l7.78-7.78 2.81-2.81c.8-.78.8-2.07 0-2.86zM5.41 20L4 18.59l7.72-7.72 1.47 1.35L5.41 20z\"/>\n",
              "  </svg>\n",
              "      </button>\n",
              "      \n",
              "  <style>\n",
              "    .colab-df-container {\n",
              "      display:flex;\n",
              "      flex-wrap:wrap;\n",
              "      gap: 12px;\n",
              "    }\n",
              "\n",
              "    .colab-df-convert {\n",
              "      background-color: #E8F0FE;\n",
              "      border: none;\n",
              "      border-radius: 50%;\n",
              "      cursor: pointer;\n",
              "      display: none;\n",
              "      fill: #1967D2;\n",
              "      height: 32px;\n",
              "      padding: 0 0 0 0;\n",
              "      width: 32px;\n",
              "    }\n",
              "\n",
              "    .colab-df-convert:hover {\n",
              "      background-color: #E2EBFA;\n",
              "      box-shadow: 0px 1px 2px rgba(60, 64, 67, 0.3), 0px 1px 3px 1px rgba(60, 64, 67, 0.15);\n",
              "      fill: #174EA6;\n",
              "    }\n",
              "\n",
              "    [theme=dark] .colab-df-convert {\n",
              "      background-color: #3B4455;\n",
              "      fill: #D2E3FC;\n",
              "    }\n",
              "\n",
              "    [theme=dark] .colab-df-convert:hover {\n",
              "      background-color: #434B5C;\n",
              "      box-shadow: 0px 1px 3px 1px rgba(0, 0, 0, 0.15);\n",
              "      filter: drop-shadow(0px 1px 2px rgba(0, 0, 0, 0.3));\n",
              "      fill: #FFFFFF;\n",
              "    }\n",
              "  </style>\n",
              "\n",
              "      <script>\n",
              "        const buttonEl =\n",
              "          document.querySelector('#df-0a7c6cb3-7dba-4f8c-980f-e32989be56a7 button.colab-df-convert');\n",
              "        buttonEl.style.display =\n",
              "          google.colab.kernel.accessAllowed ? 'block' : 'none';\n",
              "\n",
              "        async function convertToInteractive(key) {\n",
              "          const element = document.querySelector('#df-0a7c6cb3-7dba-4f8c-980f-e32989be56a7');\n",
              "          const dataTable =\n",
              "            await google.colab.kernel.invokeFunction('convertToInteractive',\n",
              "                                                     [key], {});\n",
              "          if (!dataTable) return;\n",
              "\n",
              "          const docLinkHtml = 'Like what you see? Visit the ' +\n",
              "            '<a target=\"_blank\" href=https://colab.research.google.com/notebooks/data_table.ipynb>data table notebook</a>'\n",
              "            + ' to learn more about interactive tables.';\n",
              "          element.innerHTML = '';\n",
              "          dataTable['output_type'] = 'display_data';\n",
              "          await google.colab.output.renderOutput(dataTable, element);\n",
              "          const docLink = document.createElement('div');\n",
              "          docLink.innerHTML = docLinkHtml;\n",
              "          element.appendChild(docLink);\n",
              "        }\n",
              "      </script>\n",
              "    </div>\n",
              "  </div>\n",
              "  "
            ]
          },
          "metadata": {},
          "execution_count": 6
        }
      ]
    },
    {
      "cell_type": "code",
      "source": [
        "df.info"
      ],
      "metadata": {
        "colab": {
          "base_uri": "https://localhost:8080/"
        },
        "id": "jLaHpIqkq6VU",
        "outputId": "22ebc09c-967b-4fcc-fbfd-8a67a1ff3321"
      },
      "id": "jLaHpIqkq6VU",
      "execution_count": 4,
      "outputs": [
        {
          "output_type": "execute_result",
          "data": {
            "text/plain": [
              "<bound method DataFrame.info of         N   P   K  temperature   humidity        ph    rainfall   label\n",
              "0      90  42  43    20.879744  82.002744  6.502985  202.935536    rice\n",
              "1      85  58  41    21.770462  80.319644  7.038096  226.655537    rice\n",
              "2      60  55  44    23.004459  82.320763  7.840207  263.964248    rice\n",
              "3      74  35  40    26.491096  80.158363  6.980401  242.864034    rice\n",
              "4      78  42  42    20.130175  81.604873  7.628473  262.717340    rice\n",
              "...   ...  ..  ..          ...        ...       ...         ...     ...\n",
              "2195  107  34  32    26.774637  66.413269  6.780064  177.774507  coffee\n",
              "2196   99  15  27    27.417112  56.636362  6.086922  127.924610  coffee\n",
              "2197  118  33  30    24.131797  67.225123  6.362608  173.322839  coffee\n",
              "2198  117  32  34    26.272418  52.127394  6.758793  127.175293  coffee\n",
              "2199  104  18  30    23.603016  60.396475  6.779833  140.937041  coffee\n",
              "\n",
              "[2200 rows x 8 columns]>"
            ]
          },
          "metadata": {},
          "execution_count": 4
        }
      ]
    },
    {
      "cell_type": "code",
      "execution_count": null,
      "id": "legal-colon",
      "metadata": {
        "execution": {
          "iopub.execute_input": "2021-06-02T16:01:02.460763Z",
          "iopub.status.busy": "2021-06-02T16:01:02.459936Z",
          "iopub.status.idle": "2021-06-02T16:01:02.496023Z",
          "shell.execute_reply": "2021-06-02T16:01:02.496472Z",
          "shell.execute_reply.started": "2021-05-27T17:18:53.732085Z"
        },
        "papermill": {
          "duration": 0.076515,
          "end_time": "2021-06-02T16:01:02.496702",
          "exception": false,
          "start_time": "2021-06-02T16:01:02.420187",
          "status": "completed"
        },
        "tags": [],
        "colab": {
          "base_uri": "https://localhost:8080/",
          "height": 300
        },
        "id": "legal-colon",
        "outputId": "f44356fd-b594-4ed8-bafb-c751b4a3518e"
      },
      "outputs": [
        {
          "output_type": "execute_result",
          "data": {
            "text/plain": [
              "                 N            P            K  temperature     humidity  \\\n",
              "count  2200.000000  2200.000000  2200.000000  2200.000000  2200.000000   \n",
              "mean     50.551818    53.362727    48.149091    25.616244    71.481779   \n",
              "std      36.917334    32.985883    50.647931     5.063749    22.263812   \n",
              "min       0.000000     5.000000     5.000000     8.825675    14.258040   \n",
              "25%      21.000000    28.000000    20.000000    22.769375    60.261953   \n",
              "50%      37.000000    51.000000    32.000000    25.598693    80.473146   \n",
              "75%      84.250000    68.000000    49.000000    28.561654    89.948771   \n",
              "max     140.000000   145.000000   205.000000    43.675493    99.981876   \n",
              "\n",
              "                ph     rainfall  \n",
              "count  2200.000000  2200.000000  \n",
              "mean      6.469480   103.463655  \n",
              "std       0.773938    54.958389  \n",
              "min       3.504752    20.211267  \n",
              "25%       5.971693    64.551686  \n",
              "50%       6.425045    94.867624  \n",
              "75%       6.923643   124.267508  \n",
              "max       9.935091   298.560117  "
            ],
            "text/html": [
              "\n",
              "  <div id=\"df-91f23b64-2679-48d0-ae11-927904f3dd74\">\n",
              "    <div class=\"colab-df-container\">\n",
              "      <div>\n",
              "<style scoped>\n",
              "    .dataframe tbody tr th:only-of-type {\n",
              "        vertical-align: middle;\n",
              "    }\n",
              "\n",
              "    .dataframe tbody tr th {\n",
              "        vertical-align: top;\n",
              "    }\n",
              "\n",
              "    .dataframe thead th {\n",
              "        text-align: right;\n",
              "    }\n",
              "</style>\n",
              "<table border=\"1\" class=\"dataframe\">\n",
              "  <thead>\n",
              "    <tr style=\"text-align: right;\">\n",
              "      <th></th>\n",
              "      <th>N</th>\n",
              "      <th>P</th>\n",
              "      <th>K</th>\n",
              "      <th>temperature</th>\n",
              "      <th>humidity</th>\n",
              "      <th>ph</th>\n",
              "      <th>rainfall</th>\n",
              "    </tr>\n",
              "  </thead>\n",
              "  <tbody>\n",
              "    <tr>\n",
              "      <th>count</th>\n",
              "      <td>2200.000000</td>\n",
              "      <td>2200.000000</td>\n",
              "      <td>2200.000000</td>\n",
              "      <td>2200.000000</td>\n",
              "      <td>2200.000000</td>\n",
              "      <td>2200.000000</td>\n",
              "      <td>2200.000000</td>\n",
              "    </tr>\n",
              "    <tr>\n",
              "      <th>mean</th>\n",
              "      <td>50.551818</td>\n",
              "      <td>53.362727</td>\n",
              "      <td>48.149091</td>\n",
              "      <td>25.616244</td>\n",
              "      <td>71.481779</td>\n",
              "      <td>6.469480</td>\n",
              "      <td>103.463655</td>\n",
              "    </tr>\n",
              "    <tr>\n",
              "      <th>std</th>\n",
              "      <td>36.917334</td>\n",
              "      <td>32.985883</td>\n",
              "      <td>50.647931</td>\n",
              "      <td>5.063749</td>\n",
              "      <td>22.263812</td>\n",
              "      <td>0.773938</td>\n",
              "      <td>54.958389</td>\n",
              "    </tr>\n",
              "    <tr>\n",
              "      <th>min</th>\n",
              "      <td>0.000000</td>\n",
              "      <td>5.000000</td>\n",
              "      <td>5.000000</td>\n",
              "      <td>8.825675</td>\n",
              "      <td>14.258040</td>\n",
              "      <td>3.504752</td>\n",
              "      <td>20.211267</td>\n",
              "    </tr>\n",
              "    <tr>\n",
              "      <th>25%</th>\n",
              "      <td>21.000000</td>\n",
              "      <td>28.000000</td>\n",
              "      <td>20.000000</td>\n",
              "      <td>22.769375</td>\n",
              "      <td>60.261953</td>\n",
              "      <td>5.971693</td>\n",
              "      <td>64.551686</td>\n",
              "    </tr>\n",
              "    <tr>\n",
              "      <th>50%</th>\n",
              "      <td>37.000000</td>\n",
              "      <td>51.000000</td>\n",
              "      <td>32.000000</td>\n",
              "      <td>25.598693</td>\n",
              "      <td>80.473146</td>\n",
              "      <td>6.425045</td>\n",
              "      <td>94.867624</td>\n",
              "    </tr>\n",
              "    <tr>\n",
              "      <th>75%</th>\n",
              "      <td>84.250000</td>\n",
              "      <td>68.000000</td>\n",
              "      <td>49.000000</td>\n",
              "      <td>28.561654</td>\n",
              "      <td>89.948771</td>\n",
              "      <td>6.923643</td>\n",
              "      <td>124.267508</td>\n",
              "    </tr>\n",
              "    <tr>\n",
              "      <th>max</th>\n",
              "      <td>140.000000</td>\n",
              "      <td>145.000000</td>\n",
              "      <td>205.000000</td>\n",
              "      <td>43.675493</td>\n",
              "      <td>99.981876</td>\n",
              "      <td>9.935091</td>\n",
              "      <td>298.560117</td>\n",
              "    </tr>\n",
              "  </tbody>\n",
              "</table>\n",
              "</div>\n",
              "      <button class=\"colab-df-convert\" onclick=\"convertToInteractive('df-91f23b64-2679-48d0-ae11-927904f3dd74')\"\n",
              "              title=\"Convert this dataframe to an interactive table.\"\n",
              "              style=\"display:none;\">\n",
              "        \n",
              "  <svg xmlns=\"http://www.w3.org/2000/svg\" height=\"24px\"viewBox=\"0 0 24 24\"\n",
              "       width=\"24px\">\n",
              "    <path d=\"M0 0h24v24H0V0z\" fill=\"none\"/>\n",
              "    <path d=\"M18.56 5.44l.94 2.06.94-2.06 2.06-.94-2.06-.94-.94-2.06-.94 2.06-2.06.94zm-11 1L8.5 8.5l.94-2.06 2.06-.94-2.06-.94L8.5 2.5l-.94 2.06-2.06.94zm10 10l.94 2.06.94-2.06 2.06-.94-2.06-.94-.94-2.06-.94 2.06-2.06.94z\"/><path d=\"M17.41 7.96l-1.37-1.37c-.4-.4-.92-.59-1.43-.59-.52 0-1.04.2-1.43.59L10.3 9.45l-7.72 7.72c-.78.78-.78 2.05 0 2.83L4 21.41c.39.39.9.59 1.41.59.51 0 1.02-.2 1.41-.59l7.78-7.78 2.81-2.81c.8-.78.8-2.07 0-2.86zM5.41 20L4 18.59l7.72-7.72 1.47 1.35L5.41 20z\"/>\n",
              "  </svg>\n",
              "      </button>\n",
              "      \n",
              "  <style>\n",
              "    .colab-df-container {\n",
              "      display:flex;\n",
              "      flex-wrap:wrap;\n",
              "      gap: 12px;\n",
              "    }\n",
              "\n",
              "    .colab-df-convert {\n",
              "      background-color: #E8F0FE;\n",
              "      border: none;\n",
              "      border-radius: 50%;\n",
              "      cursor: pointer;\n",
              "      display: none;\n",
              "      fill: #1967D2;\n",
              "      height: 32px;\n",
              "      padding: 0 0 0 0;\n",
              "      width: 32px;\n",
              "    }\n",
              "\n",
              "    .colab-df-convert:hover {\n",
              "      background-color: #E2EBFA;\n",
              "      box-shadow: 0px 1px 2px rgba(60, 64, 67, 0.3), 0px 1px 3px 1px rgba(60, 64, 67, 0.15);\n",
              "      fill: #174EA6;\n",
              "    }\n",
              "\n",
              "    [theme=dark] .colab-df-convert {\n",
              "      background-color: #3B4455;\n",
              "      fill: #D2E3FC;\n",
              "    }\n",
              "\n",
              "    [theme=dark] .colab-df-convert:hover {\n",
              "      background-color: #434B5C;\n",
              "      box-shadow: 0px 1px 3px 1px rgba(0, 0, 0, 0.15);\n",
              "      filter: drop-shadow(0px 1px 2px rgba(0, 0, 0, 0.3));\n",
              "      fill: #FFFFFF;\n",
              "    }\n",
              "  </style>\n",
              "\n",
              "      <script>\n",
              "        const buttonEl =\n",
              "          document.querySelector('#df-91f23b64-2679-48d0-ae11-927904f3dd74 button.colab-df-convert');\n",
              "        buttonEl.style.display =\n",
              "          google.colab.kernel.accessAllowed ? 'block' : 'none';\n",
              "\n",
              "        async function convertToInteractive(key) {\n",
              "          const element = document.querySelector('#df-91f23b64-2679-48d0-ae11-927904f3dd74');\n",
              "          const dataTable =\n",
              "            await google.colab.kernel.invokeFunction('convertToInteractive',\n",
              "                                                     [key], {});\n",
              "          if (!dataTable) return;\n",
              "\n",
              "          const docLinkHtml = 'Like what you see? Visit the ' +\n",
              "            '<a target=\"_blank\" href=https://colab.research.google.com/notebooks/data_table.ipynb>data table notebook</a>'\n",
              "            + ' to learn more about interactive tables.';\n",
              "          element.innerHTML = '';\n",
              "          dataTable['output_type'] = 'display_data';\n",
              "          await google.colab.output.renderOutput(dataTable, element);\n",
              "          const docLink = document.createElement('div');\n",
              "          docLink.innerHTML = docLinkHtml;\n",
              "          element.appendChild(docLink);\n",
              "        }\n",
              "      </script>\n",
              "    </div>\n",
              "  </div>\n",
              "  "
            ]
          },
          "metadata": {},
          "execution_count": 5
        }
      ],
      "source": [
        "df.describe()"
      ]
    },
    {
      "cell_type": "code",
      "execution_count": null,
      "id": "ordinary-johns",
      "metadata": {
        "execution": {
          "iopub.execute_input": "2021-06-02T16:01:03.231621Z",
          "iopub.status.busy": "2021-06-02T16:01:03.230968Z",
          "iopub.status.idle": "2021-06-02T16:01:03.611875Z",
          "shell.execute_reply": "2021-06-02T16:01:03.612349Z",
          "shell.execute_reply.started": "2021-05-27T17:18:54.230226Z"
        },
        "papermill": {
          "duration": 0.421299,
          "end_time": "2021-06-02T16:01:03.612537",
          "exception": false,
          "start_time": "2021-06-02T16:01:03.191238",
          "status": "completed"
        },
        "tags": [],
        "colab": {
          "base_uri": "https://localhost:8080/",
          "height": 864
        },
        "id": "ordinary-johns",
        "outputId": "1174a643-ff68-45d3-8d85-42d739ac8757"
      },
      "outputs": [
        {
          "output_type": "stream",
          "name": "stderr",
          "text": [
            "<ipython-input-7-a6dae092469d>:4: UserWarning: \n",
            "\n",
            "`distplot` is a deprecated function and will be removed in seaborn v0.14.0.\n",
            "\n",
            "Please adapt your code to use either `displot` (a figure-level function with\n",
            "similar flexibility) or `histplot` (an axes-level function for histograms).\n",
            "\n",
            "For a guide to updating your code to use the new functions, please see\n",
            "https://gist.github.com/mwaskom/de44147ed2974457ad6372750bbe5751\n",
            "\n",
            "  sns.distplot(df['temperature'],color=\"purple\",bins=15,hist_kws={'alpha':0.2})\n",
            "<ipython-input-7-a6dae092469d>:6: UserWarning: \n",
            "\n",
            "`distplot` is a deprecated function and will be removed in seaborn v0.14.0.\n",
            "\n",
            "Please adapt your code to use either `displot` (a figure-level function with\n",
            "similar flexibility) or `histplot` (an axes-level function for histograms).\n",
            "\n",
            "For a guide to updating your code to use the new functions, please see\n",
            "https://gist.github.com/mwaskom/de44147ed2974457ad6372750bbe5751\n",
            "\n",
            "  sns.distplot(df['ph'],color=\"green\",bins=15,hist_kws={'alpha':0.2})\n"
          ]
        },
        {
          "output_type": "execute_result",
          "data": {
            "text/plain": [
              "<Axes: xlabel='ph', ylabel='Density'>"
            ]
          },
          "metadata": {},
          "execution_count": 7
        },
        {
          "output_type": "display_data",
          "data": {
            "text/plain": [
              "<Figure size 1200x500 with 2 Axes>"
            ],
            "image/png": "[encoded data removed]"
          },
          "metadata": {}
        }
      ],
      "source": [
        "plt.figure(figsize=(12,5))\n",
        "plt.subplot(1, 2, 1)\n",
        "# sns.distplot(df_setosa['sepal_length'],kde=True,color='green',bins=20,hist_kws={'alpha':0.3})\n",
        "sns.distplot(df['temperature'],color=\"purple\",bins=15,hist_kws={'alpha':0.2})\n",
        "plt.subplot(1, 2, 2)\n",
        "sns.distplot(df['ph'],color=\"green\",bins=15,hist_kws={'alpha':0.2})"
      ]
    },
    {
      "cell_type": "code",
      "execution_count": null,
      "id": "initial-yeast",
      "metadata": {
        "execution": {
          "iopub.execute_input": "2021-06-02T16:01:03.771702Z",
          "iopub.status.busy": "2021-06-02T16:01:03.771025Z",
          "iopub.status.idle": "2021-06-02T16:01:04.033293Z",
          "shell.execute_reply": "2021-06-02T16:01:04.033814Z",
          "shell.execute_reply.started": "2021-05-27T17:18:54.659934Z"
        },
        "papermill": {
          "duration": 0.304527,
          "end_time": "2021-06-02T16:01:04.033999",
          "exception": false,
          "start_time": "2021-06-02T16:01:03.729472",
          "status": "completed"
        },
        "tags": [],
        "colab": {
          "base_uri": "https://localhost:8080/",
          "height": 466
        },
        "id": "initial-yeast",
        "outputId": "d142c106-a460-456d-cd59-02051ad1bb23"
      },
      "outputs": [
        {
          "output_type": "execute_result",
          "data": {
            "text/plain": [
              "<Axes: xlabel='count', ylabel='label'>"
            ]
          },
          "metadata": {},
          "execution_count": 8
        },
        {
          "output_type": "display_data",
          "data": {
            "text/plain": [
              "<Figure size 640x480 with 1 Axes>"
            ],
            "image/png": "[encoded data removed]"
          },
          "metadata": {}
        }
      ],
      "source": [
        "sns.countplot(y='label',data=df, palette=\"plasma_r\")"
      ]
    },
    {
      "cell_type": "code",
      "execution_count": null,
      "id": "social-spanking",
      "metadata": {
        "execution": {
          "iopub.execute_input": "2021-06-02T16:01:45.443644Z",
          "iopub.status.busy": "2021-06-02T16:01:45.442988Z",
          "iopub.status.idle": "2021-06-02T16:01:45.947606Z",
          "shell.execute_reply": "2021-06-02T16:01:45.947059Z",
          "shell.execute_reply.started": "2021-05-27T17:19:39.899118Z"
        },
        "papermill": {
          "duration": 0.590324,
          "end_time": "2021-06-02T16:01:45.947744",
          "exception": false,
          "start_time": "2021-06-02T16:01:45.357420",
          "status": "completed"
        },
        "tags": [],
        "colab": {
          "base_uri": "https://localhost:8080/",
          "height": 466
        },
        "id": "social-spanking",
        "outputId": "023c99bc-6e8e-49cc-ff73-1bc7198f45ee"
      },
      "outputs": [
        {
          "output_type": "execute_result",
          "data": {
            "text/plain": [
              "<Axes: xlabel='ph', ylabel='label'>"
            ]
          },
          "metadata": {},
          "execution_count": 13
        },
        {
          "output_type": "display_data",
          "data": {
            "text/plain": [
              "<Figure size 640x480 with 1 Axes>"
            ],
            "image/png": "[encoded data removed]"
          },
          "metadata": {}
        }
      ],
      "source": [
        "sns.boxplot(y='label',x='ph',data=df)"
      ]
    },
    {
      "cell_type": "code",
      "execution_count": null,
      "id": "center-mercy",
      "metadata": {
        "execution": {
          "iopub.execute_input": "2021-06-02T16:01:46.328353Z",
          "iopub.status.busy": "2021-06-02T16:01:46.309292Z",
          "iopub.status.idle": "2021-06-02T16:01:46.498653Z",
          "shell.execute_reply": "2021-06-02T16:01:46.498015Z",
          "shell.execute_reply.started": "2021-05-27T17:19:40.46782Z"
        },
        "papermill": {
          "duration": 0.311645,
          "end_time": "2021-06-02T16:01:46.498789",
          "exception": false,
          "start_time": "2021-06-02T16:01:46.187144",
          "status": "completed"
        },
        "tags": [],
        "colab": {
          "base_uri": "https://localhost:8080/",
          "height": 466
        },
        "id": "center-mercy",
        "outputId": "07d9e668-a9fe-4cd2-fef7-2ad148f969d4"
      },
      "outputs": [
        {
          "output_type": "execute_result",
          "data": {
            "text/plain": [
              "<Axes: xlabel='P', ylabel='label'>"
            ]
          },
          "metadata": {},
          "execution_count": 14
        },
        {
          "output_type": "display_data",
          "data": {
            "text/plain": [
              "<Figure size 640x480 with 1 Axes>"
            ],
            "image/png": "[encoded data removed]"
          },
          "metadata": {}
        }
      ],
      "source": [
        "sns.boxplot(y='label',x='P',data=df[df['rainfall']>150])"
      ]
    },
    {
      "cell_type": "code",
      "execution_count": null,
      "id": "sustained-tobago",
      "metadata": {
        "execution": {
          "iopub.execute_input": "2021-06-02T16:01:50.370943Z",
          "iopub.status.busy": "2021-06-02T16:01:50.370264Z",
          "iopub.status.idle": "2021-06-02T16:01:50.377938Z",
          "shell.execute_reply": "2021-06-02T16:01:50.378461Z",
          "shell.execute_reply.started": "2021-05-27T17:19:44.262645Z"
        },
        "papermill": {
          "duration": 0.094351,
          "end_time": "2021-06-02T16:01:50.378662",
          "exception": false,
          "start_time": "2021-06-02T16:01:50.284311",
          "status": "completed"
        },
        "tags": [],
        "id": "sustained-tobago"
      },
      "outputs": [],
      "source": [
        "c=df.label.astype('category')\n",
        "targets = dict(enumerate(c.cat.categories))\n",
        "df['target']=c.cat.codes\n",
        "\n",
        "y=df.target\n",
        "X=df[['N','P','K','temperature','humidity','ph','rainfall']]"
      ]
    },
    {
      "cell_type": "code",
      "execution_count": null,
      "id": "threaded-transport",
      "metadata": {
        "execution": {
          "iopub.execute_input": "2021-06-02T16:01:50.717661Z",
          "iopub.status.busy": "2021-06-02T16:01:50.716992Z",
          "iopub.status.idle": "2021-06-02T16:01:50.983010Z",
          "shell.execute_reply": "2021-06-02T16:01:50.982175Z",
          "shell.execute_reply.started": "2021-05-27T17:19:44.274437Z"
        },
        "papermill": {
          "duration": 0.352768,
          "end_time": "2021-06-02T16:01:50.983189",
          "exception": false,
          "start_time": "2021-06-02T16:01:50.630421",
          "status": "completed"
        },
        "tags": [],
        "colab": {
          "base_uri": "https://localhost:8080/",
          "height": 526
        },
        "id": "threaded-transport",
        "outputId": "6453eab0-2bc0-4b87-d00e-1c1497757477"
      },
      "outputs": [
        {
          "output_type": "execute_result",
          "data": {
            "text/plain": [
              "<Axes: >"
            ]
          },
          "metadata": {},
          "execution_count": 17
        },
        {
          "output_type": "display_data",
          "data": {
            "text/plain": [
              "<Figure size 640x480 with 2 Axes>"
            ],
            "image/png": "[encoded data removed]"
          },
          "metadata": {}
        }
      ],
      "source": [
        "sns.heatmap(X.corr())"
      ]
    },
    {
      "cell_type": "code",
      "execution_count": null,
      "id": "determined-marble",
      "metadata": {
        "execution": {
          "iopub.execute_input": "2021-06-02T16:01:51.330899Z",
          "iopub.status.busy": "2021-06-02T16:01:51.330174Z",
          "iopub.status.idle": "2021-06-02T16:01:51.540030Z",
          "shell.execute_reply": "2021-06-02T16:01:51.539272Z",
          "shell.execute_reply.started": "2021-05-27T17:19:44.630901Z"
        },
        "papermill": {
          "duration": 0.300047,
          "end_time": "2021-06-02T16:01:51.540197",
          "exception": false,
          "start_time": "2021-06-02T16:01:51.240150",
          "status": "completed"
        },
        "tags": [],
        "id": "determined-marble"
      },
      "outputs": [],
      "source": [
        "from sklearn.model_selection import train_test_split\n",
        "from sklearn.preprocessing import MinMaxScaler\n",
        "\n",
        "X_train, X_test, y_train, y_test = train_test_split(X, y,random_state=1)\n",
        "\n",
        "scaler = MinMaxScaler()\n",
        "X_train_scaled = scaler.fit_transform(X_train)\n",
        "\n",
        "# we must apply the scaling to the test set as well that we are computing for the training set\n",
        "X_test_scaled = scaler.transform(X_test)"
      ]
    },
    {
      "cell_type": "markdown",
      "id": "systematic-lawsuit",
      "metadata": {
        "papermill": {
          "duration": 0.085859,
          "end_time": "2021-06-02T16:01:51.713254",
          "exception": false,
          "start_time": "2021-06-02T16:01:51.627395",
          "status": "completed"
        },
        "tags": [],
        "id": "systematic-lawsuit"
      },
      "source": [
        "# MODEL SELECTION\n",
        "\n",
        "## KNN Classifier for Crop prediction. \n"
      ]
    },
    {
      "cell_type": "code",
      "execution_count": null,
      "id": "chronic-montgomery",
      "metadata": {
        "execution": {
          "iopub.execute_input": "2021-06-02T16:01:51.890163Z",
          "iopub.status.busy": "2021-06-02T16:01:51.889378Z",
          "iopub.status.idle": "2021-06-02T16:01:52.084696Z",
          "shell.execute_reply": "2021-06-02T16:01:52.084129Z",
          "shell.execute_reply.started": "2021-05-27T17:19:44.858654Z"
        },
        "papermill": {
          "duration": 0.285991,
          "end_time": "2021-06-02T16:01:52.084857",
          "exception": false,
          "start_time": "2021-06-02T16:01:51.798866",
          "status": "completed"
        },
        "tags": [],
        "colab": {
          "base_uri": "https://localhost:8080/"
        },
        "id": "chronic-montgomery",
        "outputId": "bfe484f2-376f-4db2-801f-6d4bfc140b1f"
      },
      "outputs": [
        {
          "output_type": "execute_result",
          "data": {
            "text/plain": [
              "0.9781818181818182"
            ]
          },
          "metadata": {},
          "execution_count": 19
        }
      ],
      "source": [
        "from sklearn.neighbors import KNeighborsClassifier\n",
        "knn = KNeighborsClassifier()\n",
        "knn.fit(X_train_scaled, y_train)\n",
        "knn.score(X_test_scaled, y_test)"
      ]
    },
    {
      "cell_type": "markdown",
      "id": "center-chest",
      "metadata": {
        "papermill": {
          "duration": 0.089811,
          "end_time": "2021-06-02T16:02:02.934776",
          "exception": false,
          "start_time": "2021-06-02T16:02:02.844965",
          "status": "completed"
        },
        "tags": [],
        "id": "center-chest"
      },
      "source": [
        "Decision Tree\n"
      ]
    },
    {
      "cell_type": "code",
      "execution_count": null,
      "id": "pharmaceutical-priority",
      "metadata": {
        "execution": {
          "iopub.execute_input": "2021-06-02T16:02:03.117266Z",
          "iopub.status.busy": "2021-06-02T16:02:03.116648Z",
          "iopub.status.idle": "2021-06-02T16:02:03.174040Z",
          "shell.execute_reply": "2021-06-02T16:02:03.174481Z",
          "shell.execute_reply.started": "2021-05-27T17:19:54.321552Z"
        },
        "papermill": {
          "duration": 0.15019,
          "end_time": "2021-06-02T16:02:03.174680",
          "exception": false,
          "start_time": "2021-06-02T16:02:03.024490",
          "status": "completed"
        },
        "tags": [],
        "colab": {
          "base_uri": "https://localhost:8080/"
        },
        "id": "pharmaceutical-priority",
        "outputId": "1de905ac-4a63-498b-b0fc-1fd4b3eacd67"
      },
      "outputs": [
        {
          "output_type": "execute_result",
          "data": {
            "text/plain": [
              "0.9872727272727273"
            ]
          },
          "metadata": {},
          "execution_count": 25
        }
      ],
      "source": [
        "from sklearn.tree import DecisionTreeClassifier\n",
        "\n",
        "clf = DecisionTreeClassifier(random_state=42).fit(X_train, y_train)\n",
        "clf.score(X_test,y_test)"
      ]
    },
    {
      "cell_type": "markdown",
      "source": [
        "Random Forest "
      ],
      "metadata": {
        "id": "qGO88FMUp6Hh"
      },
      "id": "qGO88FMUp6Hh"
    },
    {
      "cell_type": "code",
      "execution_count": null,
      "id": "different-driving",
      "metadata": {
        "execution": {
          "iopub.execute_input": "2021-06-02T16:02:04.118021Z",
          "iopub.status.busy": "2021-06-02T16:02:04.117353Z",
          "iopub.status.idle": "2021-06-02T16:02:04.544793Z",
          "shell.execute_reply": "2021-06-02T16:02:04.544231Z",
          "shell.execute_reply.started": "2021-05-27T17:19:54.633347Z"
        },
        "papermill": {
          "duration": 0.520544,
          "end_time": "2021-06-02T16:02:04.544951",
          "exception": false,
          "start_time": "2021-06-02T16:02:04.024407",
          "status": "completed"
        },
        "tags": [],
        "colab": {
          "base_uri": "https://localhost:8080/"
        },
        "id": "different-driving",
        "outputId": "3a633209-052e-4c63-f512-4ddde8d0aafb"
      },
      "outputs": [
        {
          "output_type": "stream",
          "name": "stdout",
          "text": [
            "RF Accuracy on training set: 0.97\n",
            "RF Accuracy on test set: 0.97\n"
          ]
        }
      ],
      "source": [
        "from sklearn.ensemble import RandomForestClassifier\n",
        "clf = RandomForestClassifier(max_depth=4,n_estimators=100,random_state=42).fit(X_train, y_train)\n",
        "\n",
        "print('RF Accuracy on training set: {:.2f}'.format(clf.score(X_train, y_train)))\n",
        "print('RF Accuracy on test set: {:.2f}'.format(clf.score(X_test, y_test)))"
      ]
    }
  ],
  "metadata": {
    "kernelspec": {
      "display_name": "Python 3",
      "language": "python",
      "name": "python3"
    },
    "language_info": {
      "codemirror_mode": {
        "name": "ipython",
        "version": 3
      },
      "file_extension": ".py",
      "mimetype": "text/x-python",
      "name": "python",
      "nbconvert_exporter": "python",
      "pygments_lexer": "ipython3",
      "version": "3.7.10"
    },
    "papermill": {
      "default_parameters": {},
      "duration": 84.973727,
      "end_time": "2021-06-02T16:02:17.948788",
      "environment_variables": {},
      "exception": null,
      "input_path": "__notebook__.ipynb",
      "output_path": "__notebook__.ipynb",
      "parameters": {},
      "start_time": "2021-06-02T16:00:52.975061",
      "version": "2.3.3"
    },
    "colab": {
      "provenance": []
    }
  },
  "nbformat": 4,
  "nbformat_minor": 5
}