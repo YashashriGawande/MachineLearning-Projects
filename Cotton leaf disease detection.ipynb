{
  "nbformat": 4,
  "nbformat_minor": 0,
  "metadata": {
    "colab": {
      "provenance": []
    },
    "kernelspec": {
      "name": "python3",
      "display_name": "Python 3"
    },
    "language_info": {
      "name": "python"
    }
  },
  "cells": [
    {
      "cell_type": "markdown",
      "source": [
        "Team Star Techies - Problem Statement 2 Cotton Leaf Disease Detection"
      ],
      "metadata": {
        "id": "j0ZQM9SnV9x3"
      }
    },
    {
      "cell_type": "code",
      "source": [
        "#importing libraries\n",
        "\n",
        "import numpy as np\n",
        "import pandas as pd \n",
        "\n",
        "import tensorflow as tf\n",
        "from tensorflow.keras.preprocessing.image import ImageDataGenerator\n",
        "from tensorflow.keras.layers import Conv2D\n",
        "from tensorflow.keras.preprocessing import image"
      ],
      "metadata": {
        "id": "uJOAsX0kV8Gj"
      },
      "execution_count": null,
      "outputs": []
    },
    {
      "cell_type": "code",
      "source": [
        "train_datagen = ImageDataGenerator(rescale = 1./255,\n",
        "                                   shear_range = 0.2,\n",
        "                                   zoom_range = 0.2,\n",
        "                                   horizontal_flip = True)"
      ],
      "metadata": {
        "id": "KxBQmi3IQMrD"
      },
      "execution_count": 2,
      "outputs": []
    },
    {
      "cell_type": "code",
      "source": [
        "training_set = train_datagen.flow_from_directory('/content/drive/MyDrive/Cotton Dataset/cotton',\n",
        "                                                 target_size=  (64, 64),\n",
        "                                                 batch_size = 32,\n",
        "                                                 class_mode = 'categorical')"
      ],
      "metadata": {
        "colab": {
          "base_uri": "https://localhost:8080/",
          "height": 0
        },
        "id": "3PfBlPXIQX1D",
        "outputId": "319fba37-2505-4c92-9fa5-75bdfc5a810e"
      },
      "execution_count": 7,
      "outputs": [
        {
          "output_type": "stream",
          "name": "stdout",
          "text": [
            "Found 1709 images belonging to 4 classes.\n"
          ]
        }
      ]
    },
    {
      "cell_type": "markdown",
      "source": [
        "CNN Architecture"
      ],
      "metadata": {
        "id": "JKTB_0ebVTLB"
      }
    },
    {
      "cell_type": "code",
      "source": [
        "cnn = tf.keras.models.Sequential()\n",
        "\n",
        "cnn.add(tf.keras.layers.Conv2D(filters=32,padding=\"same\",kernel_size=3, activation='relu', input_shape=[64, 64, 3]))\n",
        "cnn.add(tf.keras.layers.MaxPool2D(pool_size=2, strides=2))\n",
        "\n",
        "cnn.add(tf.keras.layers.Conv2D(filters=32,padding='same',kernel_size=3, activation='relu'))\n",
        "cnn.add(tf.keras.layers.MaxPool2D(pool_size=2, strides=2))\n",
        "\n",
        "cnn.add(tf.keras.layers.Flatten())\n",
        "\n",
        "cnn.add(tf.keras.layers.Dense(units=128, activation='relu'))\n",
        "cnn.add(tf.keras.layers.Dense(units=4, activation='softmax')) "
      ],
      "metadata": {
        "id": "ach_IPilQslx"
      },
      "execution_count": 8,
      "outputs": []
    },
    {
      "cell_type": "code",
      "source": [
        "cnn.summary()"
      ],
      "metadata": {
        "colab": {
          "base_uri": "https://localhost:8080/",
          "height": 0
        },
        "id": "-buGO7QQQdA8",
        "outputId": "b293d9df-cf62-4460-b156-5a2d4b3e081c"
      },
      "execution_count": 9,
      "outputs": [
        {
          "output_type": "stream",
          "name": "stdout",
          "text": [
            "Model: \"sequential\"\n",
            "_________________________________________________________________\n",
            " Layer (type)                Output Shape              Param #   \n",
            "=================================================================\n",
            " conv2d (Conv2D)             (None, 64, 64, 32)        896       \n",
            "                                                                 \n",
            " max_pooling2d (MaxPooling2D  (None, 32, 32, 32)       0         \n",
            " )                                                               \n",
            "                                                                 \n",
            " conv2d_1 (Conv2D)           (None, 32, 32, 32)        9248      \n",
            "                                                                 \n",
            " max_pooling2d_1 (MaxPooling  (None, 16, 16, 32)       0         \n",
            " 2D)                                                             \n",
            "                                                                 \n",
            " flatten (Flatten)           (None, 8192)              0         \n",
            "                                                                 \n",
            " dense (Dense)               (None, 128)               1048704   \n",
            "                                                                 \n",
            " dense_1 (Dense)             (None, 4)                 516       \n",
            "                                                                 \n",
            "=================================================================\n",
            "Total params: 1,059,364\n",
            "Trainable params: 1,059,364\n",
            "Non-trainable params: 0\n",
            "_________________________________________________________________\n"
          ]
        }
      ]
    },
    {
      "cell_type": "markdown",
      "source": [
        "Accuracy "
      ],
      "metadata": {
        "id": "_GNfu6uaSv0z"
      }
    },
    {
      "cell_type": "code",
      "source": [
        "cnn.compile(optimizer = 'adam',loss = 'categorical_crossentropy', metrics = ['accuracy'])\n",
        "cnn.fit(x = training_set, epochs = 10)"
      ],
      "metadata": {
        "colab": {
          "base_uri": "https://localhost:8080/",
          "height": 0
        },
        "id": "QjzKpUciQyOp",
        "outputId": "91f74f57-298c-4e8c-d6ac-960968f6ded9"
      },
      "execution_count": 12,
      "outputs": [
        {
          "output_type": "stream",
          "name": "stdout",
          "text": [
            "Epoch 1/10\n",
            "54/54 [==============================] - 317s 6s/step - loss: 1.0451 - accuracy: 0.5266\n",
            "Epoch 2/10\n",
            "54/54 [==============================] - 27s 495ms/step - loss: 0.7338 - accuracy: 0.7139\n",
            "Epoch 3/10\n",
            "54/54 [==============================] - 27s 491ms/step - loss: 0.6254 - accuracy: 0.7572\n",
            "Epoch 4/10\n",
            "54/54 [==============================] - 27s 490ms/step - loss: 0.5401 - accuracy: 0.7929\n",
            "Epoch 5/10\n",
            "54/54 [==============================] - 27s 486ms/step - loss: 0.4483 - accuracy: 0.8385\n",
            "Epoch 6/10\n",
            "54/54 [==============================] - 26s 480ms/step - loss: 0.3684 - accuracy: 0.8584\n",
            "Epoch 7/10\n",
            "54/54 [==============================] - 26s 485ms/step - loss: 0.2686 - accuracy: 0.9122\n",
            "Epoch 8/10\n",
            "54/54 [==============================] - 29s 536ms/step - loss: 0.2872 - accuracy: 0.8947\n",
            "Epoch 9/10\n",
            "54/54 [==============================] - 25s 466ms/step - loss: 0.2251 - accuracy: 0.9216\n",
            "Epoch 10/10\n",
            "54/54 [==============================] - 27s 490ms/step - loss: 0.1983 - accuracy: 0.9333\n"
          ]
        },
        {
          "output_type": "execute_result",
          "data": {
            "text/plain": [
              "<keras.callbacks.History at 0x7f09e4389910>"
            ]
          },
          "metadata": {},
          "execution_count": 12
        }
      ]
    },
    {
      "cell_type": "code",
      "source": [
        "test_image = image.load_img('/content/drive/MyDrive/Cotton Dataset/cotton/curl_virus/Curl175.png', target_size = (64,64))\n",
        "test_image = image.img_to_array(test_image)\n",
        "test_image=test_image/255\n",
        "test_image = np.expand_dims(test_image, axis = 0)\n",
        "result = cnn.predict(test_image)"
      ],
      "metadata": {
        "colab": {
          "base_uri": "https://localhost:8080/",
          "height": 0
        },
        "id": "XHz8f7kYQyVu",
        "outputId": "35a3cfc1-56c3-4827-a02c-23a57817706c"
      },
      "execution_count": 16,
      "outputs": [
        {
          "output_type": "stream",
          "name": "stdout",
          "text": [
            "1/1 [==============================] - 0s 147ms/step\n"
          ]
        }
      ]
    },
    {
      "cell_type": "code",
      "source": [
        "result"
      ],
      "metadata": {
        "colab": {
          "base_uri": "https://localhost:8080/",
          "height": 0
        },
        "id": "G9e3gJBhT5O4",
        "outputId": "07a7c243-6e62-414f-acfb-84b46ccf7db3"
      },
      "execution_count": 17,
      "outputs": [
        {
          "output_type": "execute_result",
          "data": {
            "text/plain": [
              "array([[2.5367390e-03, 9.9522060e-01, 1.7793047e-04, 2.0647366e-03]],\n",
              "      dtype=float32)"
            ]
          },
          "metadata": {},
          "execution_count": 17
        }
      ]
    },
    {
      "cell_type": "code",
      "source": [
        "print(\"Largest element is:\", max(result))"
      ],
      "metadata": {
        "colab": {
          "base_uri": "https://localhost:8080/",
          "height": 0
        },
        "id": "ZPxJ7MhrUANx",
        "outputId": "6869eea1-c228-44c7-c019-17564155b88b"
      },
      "execution_count": 18,
      "outputs": [
        {
          "output_type": "stream",
          "name": "stdout",
          "text": [
            "Largest element is: [2.5367390e-03 9.9522060e-01 1.7793047e-04 2.0647366e-03]\n"
          ]
        }
      ]
    },
    {
      "cell_type": "code",
      "source": [
        "result.sort\n",
        "result "
      ],
      "metadata": {
        "colab": {
          "base_uri": "https://localhost:8080/",
          "height": 0
        },
        "id": "mbT1nnAkUQD5",
        "outputId": "d45cf121-4ae4-4da4-cfee-a289d143b096"
      },
      "execution_count": 20,
      "outputs": [
        {
          "output_type": "execute_result",
          "data": {
            "text/plain": [
              "array([[2.5367390e-03, 9.9522060e-01, 1.7793047e-04, 2.0647366e-03]],\n",
              "      dtype=float32)"
            ]
          },
          "metadata": {},
          "execution_count": 20
        }
      ]
    },
    {
      "cell_type": "code",
      "source": [
        "result=result.tolist() "
      ],
      "metadata": {
        "id": "CSlP7Ua3UR0M"
      },
      "execution_count": 21,
      "outputs": []
    },
    {
      "cell_type": "markdown",
      "source": [
        "Conclusion "
      ],
      "metadata": {
        "id": "uhMKsa30Ug1p"
      }
    },
    {
      "cell_type": "code",
      "source": [
        "result1=[\"bacterial_blight\",\"curl_virus\",\"fussarium_wilt\",\"healthy\"]\n",
        "max = result[0];    \n",
        "     \n",
        "#Loop through the array    \n",
        "for i in range(0, len(result)):    \n",
        "    #Compare elements of array with max    \n",
        "    if(result[i] > max):    \n",
        "        max = result[i];    \n",
        "           \n",
        "print(\"Largest element present in given array: \" + str(max) +\" And it belongs to \" +str(result1[2]) +\" class.\");      "
      ],
      "metadata": {
        "colab": {
          "base_uri": "https://localhost:8080/",
          "height": 0
        },
        "id": "370ztoIsUAYI",
        "outputId": "d0e8b802-76f5-4f41-954e-a74b7bc2ff98"
      },
      "execution_count": 24,
      "outputs": [
        {
          "output_type": "stream",
          "name": "stdout",
          "text": [
            "Largest element present in given array: [0.0025367389898747206, 0.9952206015586853, 0.0001779304730007425, 0.002064736559987068] And it belongs to fussarium_wilt class.\n"
          ]
        }
      ]
    }
  ]
}